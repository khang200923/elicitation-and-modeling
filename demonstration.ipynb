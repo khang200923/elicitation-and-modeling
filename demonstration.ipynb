{
 "cells": [
  {
   "cell_type": "code",
   "execution_count": 1,
   "metadata": {},
   "outputs": [],
   "source": [
    "from elicitation import elicitation, expectation, extraction\n",
    "from modeling import Model"
   ]
  },
  {
   "cell_type": "code",
   "execution_count": 2,
   "metadata": {},
   "outputs": [
    {
     "name": "stdout",
     "output_type": "stream",
     "text": [
      "1. User likes horror movies (70.0% chance)\n",
      "2. User likes comedies (80.0% chance)\n"
     ]
    }
   ],
   "source": [
    "model = Model(\n",
    "    {\n",
    "        \"User likes horror movies\": 0.70,\n",
    "        \"User likes comedies\": 0.80\n",
    "    }\n",
    ")\n",
    "print(model)"
   ]
  },
  {
   "cell_type": "code",
   "execution_count": 3,
   "metadata": {},
   "outputs": [
    {
     "name": "stdout",
     "output_type": "stream",
     "text": [
      "What themes do you find most engaging in horror movies, and can you give an example of a film that illustrates this for you?\n"
     ]
    }
   ],
   "source": [
    "x = elicitation(\"get to know the user's movie taste more\", model)\n",
    "print(x)"
   ]
  },
  {
   "cell_type": "code",
   "execution_count": 4,
   "metadata": {},
   "outputs": [],
   "source": [
    "x = \"What are some of your all-time horror movies and what do you love most about them?\""
   ]
  },
  {
   "cell_type": "code",
   "execution_count": 5,
   "metadata": {},
   "outputs": [
    {
     "name": "stdout",
     "output_type": "stream",
     "text": [
      "I absolutely love 'The Shining'! The eerie atmosphere and Jack Nicholson's performance are unmatched. The tension builds perfectly, and I appreciate how the setting itself feels like a character.\n",
      "'Get Out' blew my mind with its social commentary. I admire how it blends horror with deep themes about race and society. It’s not just about scares; it makes you think!\n",
      "'A Nightmare on Elm Street' holds a special place for me. Freddy Krueger is such an iconic villain, and I love the uniqueness of dreaming as a battleground for horror.\n",
      "'Hereditary' is another favorite. The psychological dread and family dynamics really hit home for me. It’s haunting, and the acting is top-notch, especially Toni Collette.\n",
      "I can’t forget 'It Follows'. The concept of an entity that relentlessly pursues you is terrifying, and I love how it plays on fear in such a clever way.\n"
     ]
    }
   ],
   "source": [
    "y = expectation(x, model)\n",
    "print(\"\\n\".join(y))"
   ]
  },
  {
   "cell_type": "code",
   "execution_count": 6,
   "metadata": {},
   "outputs": [],
   "source": [
    "z = \"I'm not really a fan of horror movies, but I did enjoy 'A Quiet Place' because the suspense was really thrilling.\""
   ]
  },
  {
   "cell_type": "code",
   "execution_count": 7,
   "metadata": {},
   "outputs": [
    {
     "name": "stdout",
     "output_type": "stream",
     "text": [
      "The actual answer provided by the subject significantly diverges from the expected answers in several key areas. Firstly, the subject explicitly states that they are \"not really a fan of horror movies,\" indicating a lack of enthusiasm that is in stark contrast to the passionate expressions found in the expected answers, where the respondents showcase deep love and admiration for specific films. Secondly, the actual acknowledgment of enjoying \"A Quiet Place\" is pointedly subdued, focusing solely on the suspense rather than the intricate nuances or deeper thematic appreciation suggested in the expected answers. While expected responses highlight a love for iconic elements, such as atmosphere, social commentary, and character depth—traits that typically resonate with horror aficionados—the actual response lacks this enthusiasm and complexity, revealing a more casual engagement with the genre rather than an impassioned appreciation. Lastly, where expected answers provide a list of beloved horror films, the actual response mentions only a single title, reinforcing the notion that the subject's connection to the horror genre is limited and superficial compared to the deeper ties expressed in the expected responses.\n"
     ]
    }
   ],
   "source": [
    "w = extraction(x, z, y, model)\n",
    "print(w)"
   ]
  },
  {
   "cell_type": "code",
   "execution_count": 8,
   "metadata": {},
   "outputs": [
    {
     "name": "stdout",
     "output_type": "stream",
     "text": [
      "[['User likes horror movies', False, 5.0], ['User likes comedies', True, 1.2]]\n"
     ]
    }
   ],
   "source": [
    "s = model.use(x, z, w)\n",
    "print(s)"
   ]
  },
  {
   "cell_type": "code",
   "execution_count": 9,
   "metadata": {},
   "outputs": [
    {
     "name": "stdout",
     "output_type": "stream",
     "text": [
      "1. User likes horror movies (31.818181818181817% chance)\n",
      "2. User likes comedies (82.75862068965517% chance)\n"
     ]
    }
   ],
   "source": [
    "print(model)"
   ]
  },
  {
   "cell_type": "code",
   "execution_count": null,
   "metadata": {},
   "outputs": [],
   "source": []
  }
 ],
 "metadata": {
  "kernelspec": {
   "display_name": "Python 3",
   "language": "python",
   "name": "python3"
  },
  "language_info": {
   "codemirror_mode": {
    "name": "ipython",
    "version": 3
   },
   "file_extension": ".py",
   "mimetype": "text/x-python",
   "name": "python",
   "nbconvert_exporter": "python",
   "pygments_lexer": "ipython3",
   "version": "3.12.6"
  }
 },
 "nbformat": 4,
 "nbformat_minor": 2
}
