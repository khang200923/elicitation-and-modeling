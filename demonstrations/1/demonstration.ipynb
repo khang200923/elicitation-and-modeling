{
 "cells": [
  {
   "cell_type": "code",
   "execution_count": 1,
   "metadata": {},
   "outputs": [],
   "source": [
    "import sys\n",
    "sys.path.append('../../')\n",
    "\n",
    "from core.elicitation import elicitation, expectation, extraction\n",
    "from core.modeling import Model"
   ]
  },
  {
   "cell_type": "code",
   "execution_count": 2,
   "metadata": {},
   "outputs": [
    {
     "name": "stdout",
     "output_type": "stream",
     "text": [
      "1. User likes horror movies (70.0% chance)\n",
      "2. User likes comedies (80.0% chance)\n"
     ]
    }
   ],
   "source": [
    "model = Model(\n",
    "    {\n",
    "        \"User likes horror movies\": 0.70,\n",
    "        \"User likes comedies\": 0.80\n",
    "    }\n",
    ")\n",
    "print(model)"
   ]
  },
  {
   "cell_type": "code",
   "execution_count": 3,
   "metadata": {},
   "outputs": [
    {
     "name": "stdout",
     "output_type": "stream",
     "text": [
      "What are some of your all-time favorite horror movies, and what do you love about them?\n"
     ]
    }
   ],
   "source": [
    "x = elicitation(\"get to know the user's movie taste more\", model)\n",
    "print(x)"
   ]
  },
  {
   "cell_type": "code",
   "execution_count": 4,
   "metadata": {},
   "outputs": [],
   "source": [
    "x = \"What are some of your all-time horror movies and what do you love most about them?\""
   ]
  },
  {
   "cell_type": "code",
   "execution_count": 5,
   "metadata": {},
   "outputs": [
    {
     "name": "stdout",
     "output_type": "stream",
     "text": [
      "I absolutely love 'The Shining' for its eerie atmosphere and Jack Nicholson's incredible performance. The way it builds suspense is simply unmatched.\n",
      "'Get Out' is one of my all-time favorites because it combines social commentary with real horror. The psychological thrills are just brilliant.\n",
      "I can't get enough of 'Hereditary'—the acting is phenomenal and it really dives deep into family trauma, making it both scary and thought-provoking.\n",
      "'A Nightmare on Elm Street' is a classic for me! I love how it takes a simple concept like dreams and turns it into a terrifying experience. Freddy Krueger is iconic!\n",
      "'The Conjuring' series really captivates me, especially the first film. The way it weaves real-life horror stories with supernatural elements keeps me on the edge of my seat.\n"
     ]
    }
   ],
   "source": [
    "y = expectation(x, model)\n",
    "print(\"\\n\".join(y))"
   ]
  },
  {
   "cell_type": "code",
   "execution_count": 6,
   "metadata": {},
   "outputs": [],
   "source": [
    "z = \"I'm not really a fan of horror movies, but I did enjoy 'A Quiet Place' because the suspense was really thrilling.\""
   ]
  },
  {
   "cell_type": "code",
   "execution_count": 7,
   "metadata": {},
   "outputs": [
    {
     "name": "stdout",
     "output_type": "stream",
     "text": [
      "The actual answer provided by the subject notably contrasts with the expected answers in several significant ways. Firstly, the subject expresses a lack of enthusiasm for horror movies in general, claiming not to be a fan, whereas the expected responses are filled with passion and enthusiasm for specific horror films. Secondly, unlike the expected answers which highlight multiple iconic horror films, the subject only mentions one movie, 'A Quiet Place,' indicating a limited engagement with the genre. Furthermore, the expected answers emphasize deep appreciation for elements such as atmosphere, psychological depth, and iconic performances, while the subject primarily focuses on the thrill of suspense in 'A Quiet Place,' lacking the same nuance and adoration found in the expected responses. Lastly, the expected answers typically feature a more diverse range of classic and contemporary horror films, showcasing a broader interest and knowledge of the genre, while the subject's response suggests a more isolated experience with horror cinema.\n"
     ]
    }
   ],
   "source": [
    "w = extraction(x, z, y, model)\n",
    "print(w)"
   ]
  },
  {
   "cell_type": "code",
   "execution_count": 8,
   "metadata": {},
   "outputs": [
    {
     "name": "stdout",
     "output_type": "stream",
     "text": [
      "[['User likes horror movies', False, 5.0], ['User likes comedies', True, 1.5]]\n"
     ]
    }
   ],
   "source": [
    "s = model.use(x, z, w)\n",
    "print(s)"
   ]
  },
  {
   "cell_type": "code",
   "execution_count": 9,
   "metadata": {},
   "outputs": [
    {
     "name": "stdout",
     "output_type": "stream",
     "text": [
      "1. User likes horror movies (31.818181818181817% chance)\n",
      "2. User likes comedies (85.71428571428572% chance)\n"
     ]
    }
   ],
   "source": [
    "print(model)"
   ]
  },
  {
   "cell_type": "code",
   "execution_count": null,
   "metadata": {},
   "outputs": [],
   "source": []
  }
 ],
 "metadata": {
  "kernelspec": {
   "display_name": "Python 3",
   "language": "python",
   "name": "python3"
  },
  "language_info": {
   "codemirror_mode": {
    "name": "ipython",
    "version": 3
   },
   "file_extension": ".py",
   "mimetype": "text/x-python",
   "name": "python",
   "nbconvert_exporter": "python",
   "pygments_lexer": "ipython3",
   "version": "3.12.6"
  }
 },
 "nbformat": 4,
 "nbformat_minor": 2
}
